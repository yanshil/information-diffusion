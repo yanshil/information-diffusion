{
 "cells": [
  {
   "cell_type": "code",
   "execution_count": null,
   "metadata": {
    "collapsed": true,
    "scrolled": true
   },
   "outputs": [],
   "source": [
    "import networkx as nx\n",
    "import matplotlib.pyplot as plt\n",
    "BA= nx.random_graphs.barabasi_albert_graph(100,1)  #生成n、m=1的BA无标度网络\n",
    "pos = nx.spring_layout(BA)          #定义一个布局，此处采用了spring布局方式\n",
    "nx.draw(BA,pos,with_labels=False,node_size = 30)  #绘制图形\n",
    "plt.show()\n",
    "\n",
    "G = nx.scale_free_graph(200)\n",
    "pos = nx.kamada_kawai_layout(G)\n",
    "nx.draw(G,pos,with_labels=False,node_size = 30) \n",
    "plt.show()"
   ]
  },
  {
   "cell_type": "code",
   "execution_count": null,
   "metadata": {
    "collapsed": true,
    "scrolled": false
   },
   "outputs": [],
   "source": []
  },
  {
   "cell_type": "code",
   "execution_count": null,
   "metadata": {
    "collapsed": true
   },
   "outputs": [],
   "source": [
    "import networkx as nx\n",
    "import matplotlib.pyplot as plt\n",
    "\n",
    "MG = nx.scale_free_graph(20)\n",
    "pos = nx.kamada_kawai_layout(MG)\n",
    "nx.draw(MG,pos,with_labels=False,node_size = 30) \n",
    "plt.show()\n",
    "\n",
    "G = nx.DiGraph()\n",
    "GG = nx.to_directed(MG)\n",
    "pos = nx.kamada_kawai_layout(GG)\n",
    "nx.draw(GG,pos,with_labels=False,node_size = 30) \n",
    "plt.show()"
   ]
  },
  {
   "cell_type": "code",
   "execution_count": null,
   "metadata": {
    "collapsed": true
   },
   "outputs": [],
   "source": [
    "import networkx as nx\n",
    "import matplotlib.pyplot as plt\n",
    "def mulDiGraph2DiGraph(M):\n",
    "    # create weighted graph from M\n",
    "    G = nx.DiGraph()\n",
    "    for u,v,data in M.edges(data=True):\n",
    "        w = data['weight'] if 'weight' in data else 1.0\n",
    "        if G.has_edge(u,v):\n",
    "            G[u][v]['weight'] += w\n",
    "        else:\n",
    "            G.add_edge(u, v, weight=w)\n",
    "    return G;\n",
    "\n",
    "N = 20\n",
    "MG = nx.scale_free_graph(N)\n",
    "pos = nx.kamada_kawai_layout(MG)\n",
    "nx.draw(MG,pos,with_labels=False,node_size = 30) \n",
    "plt.show()\n",
    "\n",
    "G = mulDiGraph2DiGraph(MG)\n",
    "pos = nx.kamada_kawai_layout(G)\n",
    "nx.draw(G,pos,with_labels=False,node_size = 30) \n",
    "plt.show()"
   ]
  },
  {
   "cell_type": "code",
   "execution_count": null,
   "metadata": {
    "collapsed": true
   },
   "outputs": [],
   "source": [
    "G.out_degree()\n",
    "4 1 1 5 1 3 1 1 1 1 \n",
    "0 0 2 2 1 0 1 1 1 1"
   ]
  },
  {
   "cell_type": "code",
   "execution_count": 6,
   "metadata": {
    "scrolled": false
   },
   "outputs": [
    {
     "name": "stdout",
     "output_type": "stream",
     "text": [
      "after loading graph from pickle\n",
      "after setting graph attributes\n"
     ]
    },
    {
     "data": {
      "image/png": "[encoded data removed]",
      "text/plain": [
       "<matplotlib.figure.Figure at 0x7f0fb42cfc50>"
      ]
     },
     "metadata": {},
     "output_type": "display_data"
    },
    {
     "name": "stdout",
     "output_type": "stream",
     "text": [
      "100000 50\n"
     ]
    },
    {
     "data": {
      "image/png": "[encoded data removed]",
      "text/plain": [
       "<matplotlib.figure.Figure at 0x7f0f8f387438>"
      ]
     },
     "metadata": {},
     "output_type": "display_data"
    },
    {
     "name": "stdout",
     "output_type": "stream",
     "text": [
      "1503\n"
     ]
    }
   ],
   "source": [
    "import datetime\n",
    "\n",
    "starttime = datetime.datetime.now()\n",
    "\n",
    "%run informationFlow.py\n",
    "\n",
    "endtime = datetime.datetime.now()\n",
    "\n",
    "print ((endtime - starttime).seconds)"
   ]
  },
  {
   "cell_type": "code",
   "execution_count": null,
   "metadata": {
    "collapsed": true
   },
   "outputs": [],
   "source": [
    "poliRed"
   ]
  },
  {
   "cell_type": "code",
   "execution_count": null,
   "metadata": {
    "collapsed": true
   },
   "outputs": [],
   "source": [
    "poliBlue[0, 1:20]"
   ]
  },
  {
   "cell_type": "code",
   "execution_count": null,
   "metadata": {
    "collapsed": true
   },
   "outputs": [],
   "source": [
    "poliRed[0, 1:20]"
   ]
  },
  {
   "cell_type": "code",
   "execution_count": null,
   "metadata": {
    "collapsed": true
   },
   "outputs": [],
   "source": [
    "Rec.shape"
   ]
  },
  {
   "cell_type": "code",
   "execution_count": 10,
   "metadata": {},
   "outputs": [
    {
     "name": "stdout",
     "output_type": "stream",
     "text": [
      "42\n"
     ]
    }
   ],
   "source": []
  },
  {
   "cell_type": "code",
   "execution_count": 8,
   "metadata": {},
   "outputs": [
    {
     "name": "stdout",
     "output_type": "stream",
     "text": [
      "1\n"
     ]
    }
   ],
   "source": [
    "import networkx as nx\n",
    "import pickle\n",
    "import datetime\n",
    "\n",
    "def mulDiGraph2DiGraph(M):\n",
    "    # create weighted graph from M\n",
    "    G = nx.DiGraph()\n",
    "    for u,v,data in M.edges(data=True):\n",
    "        w = data['weight'] if 'weight' in data else 1.0\n",
    "        if G.has_edge(u,v):\n",
    "            G[u][v]['weight'] += 0\n",
    "        else:\n",
    "            G.add_edge(u, v, weight=0)\n",
    "    return G;\n",
    "\n",
    "\n",
    "starttime = datetime.datetime.now()\n",
    "popNum = 2000\n",
    "sourceNum = 20\n",
    "Gra = nx.scale_free_graph(popNum)\n",
    "Gra = mulDiGraph2DiGraph(Gra)\n",
    "nx.write_gpickle(Gra, './Graph2k.pickle')\n",
    "\n",
    "endtime = datetime.datetime.now()\n",
    "\n",
    "print ((endtime - starttime).seconds)"
   ]
  },
  {
   "cell_type": "code",
   "execution_count": 4,
   "metadata": {
    "collapsed": true
   },
   "outputs": [],
   "source": [
    "Gra = nx.read_gpickle('./Graph100k.pickle')"
   ]
  },
  {
   "cell_type": "code",
   "execution_count": 7,
   "metadata": {},
   "outputs": [
    {
     "name": "stdout",
     "output_type": "stream",
     "text": [
      "after loading graph from pickle\n",
      "after setting graph attributes\n"
     ]
    },
    {
     "data": {
      "image/png": "[encoded data removed]",
      "text/plain": [
       "<matplotlib.figure.Figure at 0x7f0fb7b682b0>"
      ]
     },
     "metadata": {},
     "output_type": "display_data"
    },
    {
     "name": "stdout",
     "output_type": "stream",
     "text": [
      "100000 50\n"
     ]
    },
    {
     "data": {
      "image/png": "[encoded data removed]",
      "text/plain": [
       "<matplotlib.figure.Figure at 0x7f0f70742668>"
      ]
     },
     "metadata": {},
     "output_type": "display_data"
    },
    {
     "name": "stdout",
     "output_type": "stream",
     "text": [
      "79\n"
     ]
    },
    {
     "data": {
      "text/plain": [
       "<matplotlib.figure.Figure at 0x7f0fb42cfef0>"
      ]
     },
     "metadata": {},
     "output_type": "display_data"
    }
   ],
   "source": [
    "import datetime\n",
    "\n",
    "starttime = datetime.datetime.now()\n",
    "\n",
    "%run informationFlow.py\n",
    "\n",
    "endtime = datetime.datetime.now()\n",
    "\n",
    "print ((endtime - starttime).seconds)"
   ]
  },
  {
   "cell_type": "code",
   "execution_count": null,
   "metadata": {
    "collapsed": true
   },
   "outputs": [],
   "source": []
  }
 ],
 "metadata": {
  "kernelspec": {
   "display_name": "Python 3",
   "language": "python",
   "name": "python3"
  },
  "language_info": {
   "codemirror_mode": {
    "name": "ipython",
    "version": 3
   },
   "file_extension": ".py",
   "mimetype": "text/x-python",
   "name": "python",
   "nbconvert_exporter": "python",
   "pygments_lexer": "ipython3",
   "version": "3.5.4"
  }
 },
 "nbformat": 4,
 "nbformat_minor": 2
}
